{
 "cells": [
  {
   "cell_type": "code",
   "execution_count": 242,
   "metadata": {},
   "outputs": [],
   "source": [
    "%matplotlib inline\n",
    "import matplotlib.pyplot as plt\n",
    "import seaborn as sns; sns.set()\n",
    "sns.set(style=\"darkgrid\")\n",
    "import numpy as np\n",
    "import pandas as pd"
   ]
  },
  {
   "cell_type": "code",
   "execution_count": 243,
   "metadata": {},
   "outputs": [],
   "source": [
    "df = pd.read_csv('nfl_betting_df.csv', index_col = 0)\n",
    "dfdiv = pd.read_csv('nfl_div.csv')"
   ]
  },
  {
   "cell_type": "code",
   "execution_count": 244,
   "metadata": {},
   "outputs": [],
   "source": [
    "dfht = dfdiv.rename(columns={\"team\": \"team_home\", \"league\": \"league_home\", \"div\": \"div_home\", \"combined_lg_div\": \"combined_lg_div_home\"})\n",
    "dfat = dfdiv.rename(columns={\"team\": \"team_away\", \"league\": \"league_away\", \"div\": \"div_away\", \"combined_lg_div\": \"combined_lg_div_away\"})\n",
    "df = df.merge(dfht, left_on='home_id', right_on='team_home', how='outer')\n",
    "df = df.merge(dfat, left_on='away_id', right_on='team_away', how='outer')"
   ]
  },
  {
   "cell_type": "code",
   "execution_count": 245,
   "metadata": {},
   "outputs": [],
   "source": [
    "df = df[df.over_under_result !='push']"
   ]
  },
  {
   "cell_type": "code",
   "execution_count": 246,
   "metadata": {},
   "outputs": [],
   "source": [
    "#dfdiv.head(10)"
   ]
  },
  {
   "cell_type": "code",
   "execution_count": 247,
   "metadata": {},
   "outputs": [
    {
     "data": {
      "text/plain": [
       "schedule_date            object\n",
       "schedule_season           int64\n",
       "schedule_week             int64\n",
       "team_home_x              object\n",
       "team_away_x              object\n",
       "team_favorite_id         object\n",
       "spread_favorite         float64\n",
       "over_under_line         float64\n",
       "weather_detail           object\n",
       "weather_temperature     float64\n",
       "weather_wind_mph        float64\n",
       "weather_humidity        float64\n",
       "score_home                int64\n",
       "score_away                int64\n",
       "point_total               int64\n",
       "over_under_result        object\n",
       "score_difference          int64\n",
       "home_id                  object\n",
       "away_id                  object\n",
       "home_favorite             int64\n",
       "favorite_covered          int64\n",
       "winning_team             object\n",
       "losing_team              object\n",
       "home_wins                 int64\n",
       "home_losses               int64\n",
       "home_ties                 int64\n",
       "away_wins                 int64\n",
       "away_losses               int64\n",
       "away_ties                 int64\n",
       "home_points_for           int64\n",
       "home_points_against       int64\n",
       "away_points_for           int64\n",
       "away_points_against       int64\n",
       "h_games                   int64\n",
       "a_games                   int64\n",
       "home_win_pct            float64\n",
       "away_win_pct            float64\n",
       "win_pct_diff            float64\n",
       "h_ppg                   float64\n",
       "h_papg                  float64\n",
       "a_ppg                   float64\n",
       "a_papg                  float64\n",
       "home_pt_diff_pg         float64\n",
       "away_pt_diff_pg         float64\n",
       "pt_diff_pg              float64\n",
       "home_exp_win_pct        float64\n",
       "away_exp_win_pct        float64\n",
       "home_win_pct_last_4     float64\n",
       "away_win_pct_last_4     float64\n",
       "team_home_y              object\n",
       "league_home              object\n",
       "div_home                 object\n",
       "combined_lg_div_home     object\n",
       "team_away_y              object\n",
       "league_away              object\n",
       "div_away                 object\n",
       "combined_lg_div_away     object\n",
       "dtype: object"
      ]
     },
     "execution_count": 247,
     "metadata": {},
     "output_type": "execute_result"
    }
   ],
   "source": [
    "df.dtypes"
   ]
  },
  {
   "cell_type": "code",
   "execution_count": 248,
   "metadata": {},
   "outputs": [
    {
     "data": {
      "text/html": [
       "<div>\n",
       "<style scoped>\n",
       "    .dataframe tbody tr th:only-of-type {\n",
       "        vertical-align: middle;\n",
       "    }\n",
       "\n",
       "    .dataframe tbody tr th {\n",
       "        vertical-align: top;\n",
       "    }\n",
       "\n",
       "    .dataframe thead th {\n",
       "        text-align: right;\n",
       "    }\n",
       "</style>\n",
       "<table border=\"1\" class=\"dataframe\">\n",
       "  <thead>\n",
       "    <tr style=\"text-align: right;\">\n",
       "      <th></th>\n",
       "      <th>schedule_date</th>\n",
       "      <th>schedule_season</th>\n",
       "      <th>schedule_week</th>\n",
       "      <th>team_home_x</th>\n",
       "      <th>team_away</th>\n",
       "      <th>team_favorite_id</th>\n",
       "      <th>spread_favorite</th>\n",
       "      <th>over_under_line</th>\n",
       "      <th>weather_detail</th>\n",
       "      <th>weather_temperature</th>\n",
       "      <th>...</th>\n",
       "      <th>away_pt_diff_pg</th>\n",
       "      <th>pt_diff_pg</th>\n",
       "      <th>home_exp_win_pct</th>\n",
       "      <th>away_exp_win_pct</th>\n",
       "      <th>home_win_pct_last_4</th>\n",
       "      <th>away_win_pct_last_4</th>\n",
       "      <th>team_home_y</th>\n",
       "      <th>league_home</th>\n",
       "      <th>div_home</th>\n",
       "      <th>combined_lg_div_home</th>\n",
       "    </tr>\n",
       "  </thead>\n",
       "  <tbody>\n",
       "    <tr>\n",
       "      <th>0</th>\n",
       "      <td>01/14/1968</td>\n",
       "      <td>1967</td>\n",
       "      <td>22</td>\n",
       "      <td>Green Bay Packers</td>\n",
       "      <td>Oakland Raiders</td>\n",
       "      <td>GB</td>\n",
       "      <td>-13.5</td>\n",
       "      <td>43.0</td>\n",
       "      <td>60 degrees-  humidity 74%- wind 12 mph</td>\n",
       "      <td>60.0</td>\n",
       "      <td>...</td>\n",
       "      <td>NaN</td>\n",
       "      <td>NaN</td>\n",
       "      <td>NaN</td>\n",
       "      <td>NaN</td>\n",
       "      <td>0.00</td>\n",
       "      <td>0.00</td>\n",
       "      <td>GB</td>\n",
       "      <td>NFC</td>\n",
       "      <td>NORTH</td>\n",
       "      <td>NFC_NORTH</td>\n",
       "    </tr>\n",
       "    <tr>\n",
       "      <th>1</th>\n",
       "      <td>09/09/1979</td>\n",
       "      <td>1979</td>\n",
       "      <td>2</td>\n",
       "      <td>Green Bay Packers</td>\n",
       "      <td>New Orleans Saints</td>\n",
       "      <td>GB</td>\n",
       "      <td>-3.0</td>\n",
       "      <td>35.0</td>\n",
       "      <td>NaN</td>\n",
       "      <td>60.0</td>\n",
       "      <td>...</td>\n",
       "      <td>-6.000</td>\n",
       "      <td>3.000</td>\n",
       "      <td>0.092502</td>\n",
       "      <td>0.259418</td>\n",
       "      <td>0.00</td>\n",
       "      <td>0.00</td>\n",
       "      <td>GB</td>\n",
       "      <td>NFC</td>\n",
       "      <td>NORTH</td>\n",
       "      <td>NFC_NORTH</td>\n",
       "    </tr>\n",
       "    <tr>\n",
       "      <th>2</th>\n",
       "      <td>09/16/1979</td>\n",
       "      <td>1979</td>\n",
       "      <td>3</td>\n",
       "      <td>Green Bay Packers</td>\n",
       "      <td>Tampa Bay Buccaneers</td>\n",
       "      <td>GB</td>\n",
       "      <td>-2.0</td>\n",
       "      <td>36.0</td>\n",
       "      <td>NaN</td>\n",
       "      <td>60.0</td>\n",
       "      <td>...</td>\n",
       "      <td>9.000</td>\n",
       "      <td>-6.000</td>\n",
       "      <td>0.745553</td>\n",
       "      <td>0.891224</td>\n",
       "      <td>0.25</td>\n",
       "      <td>0.50</td>\n",
       "      <td>GB</td>\n",
       "      <td>NFC</td>\n",
       "      <td>NORTH</td>\n",
       "      <td>NFC_NORTH</td>\n",
       "    </tr>\n",
       "    <tr>\n",
       "      <th>3</th>\n",
       "      <td>10/01/1979</td>\n",
       "      <td>1979</td>\n",
       "      <td>5</td>\n",
       "      <td>Green Bay Packers</td>\n",
       "      <td>New England Patriots</td>\n",
       "      <td>NE</td>\n",
       "      <td>-7.0</td>\n",
       "      <td>39.0</td>\n",
       "      <td>NaN</td>\n",
       "      <td>52.0</td>\n",
       "      <td>...</td>\n",
       "      <td>15.500</td>\n",
       "      <td>-18.250</td>\n",
       "      <td>0.296912</td>\n",
       "      <td>0.986614</td>\n",
       "      <td>0.25</td>\n",
       "      <td>0.75</td>\n",
       "      <td>GB</td>\n",
       "      <td>NFC</td>\n",
       "      <td>NORTH</td>\n",
       "      <td>NFC_NORTH</td>\n",
       "    </tr>\n",
       "    <tr>\n",
       "      <th>4</th>\n",
       "      <td>10/14/1979</td>\n",
       "      <td>1979</td>\n",
       "      <td>7</td>\n",
       "      <td>Green Bay Packers</td>\n",
       "      <td>Detroit Lions</td>\n",
       "      <td>GB</td>\n",
       "      <td>-4.0</td>\n",
       "      <td>36.0</td>\n",
       "      <td>NaN</td>\n",
       "      <td>41.0</td>\n",
       "      <td>...</td>\n",
       "      <td>-8.000</td>\n",
       "      <td>5.333</td>\n",
       "      <td>0.305798</td>\n",
       "      <td>0.101999</td>\n",
       "      <td>0.25</td>\n",
       "      <td>0.25</td>\n",
       "      <td>GB</td>\n",
       "      <td>NFC</td>\n",
       "      <td>NORTH</td>\n",
       "      <td>NFC_NORTH</td>\n",
       "    </tr>\n",
       "    <tr>\n",
       "      <th>5</th>\n",
       "      <td>11/04/1979</td>\n",
       "      <td>1979</td>\n",
       "      <td>10</td>\n",
       "      <td>Green Bay Packers</td>\n",
       "      <td>New York Jets</td>\n",
       "      <td>NYJ</td>\n",
       "      <td>-4.0</td>\n",
       "      <td>39.0</td>\n",
       "      <td>NaN</td>\n",
       "      <td>34.0</td>\n",
       "      <td>...</td>\n",
       "      <td>-3.667</td>\n",
       "      <td>-1.444</td>\n",
       "      <td>0.167645</td>\n",
       "      <td>0.287799</td>\n",
       "      <td>0.25</td>\n",
       "      <td>0.50</td>\n",
       "      <td>GB</td>\n",
       "      <td>NFC</td>\n",
       "      <td>NORTH</td>\n",
       "      <td>NFC_NORTH</td>\n",
       "    </tr>\n",
       "    <tr>\n",
       "      <th>6</th>\n",
       "      <td>11/11/1979</td>\n",
       "      <td>1979</td>\n",
       "      <td>11</td>\n",
       "      <td>Green Bay Packers</td>\n",
       "      <td>Minnesota Vikings</td>\n",
       "      <td>GB</td>\n",
       "      <td>-2.0</td>\n",
       "      <td>37.0</td>\n",
       "      <td>NaN</td>\n",
       "      <td>26.0</td>\n",
       "      <td>...</td>\n",
       "      <td>-7.100</td>\n",
       "      <td>2.000</td>\n",
       "      <td>0.175218</td>\n",
       "      <td>0.117972</td>\n",
       "      <td>0.25</td>\n",
       "      <td>0.25</td>\n",
       "      <td>GB</td>\n",
       "      <td>NFC</td>\n",
       "      <td>NORTH</td>\n",
       "      <td>NFC_NORTH</td>\n",
       "    </tr>\n",
       "    <tr>\n",
       "      <th>7</th>\n",
       "      <td>11/25/1979</td>\n",
       "      <td>1979</td>\n",
       "      <td>13</td>\n",
       "      <td>Green Bay Packers</td>\n",
       "      <td>Philadelphia Eagles</td>\n",
       "      <td>PHI</td>\n",
       "      <td>-4.0</td>\n",
       "      <td>36.0</td>\n",
       "      <td>NaN</td>\n",
       "      <td>35.0</td>\n",
       "      <td>...</td>\n",
       "      <td>0.833</td>\n",
       "      <td>-4.666</td>\n",
       "      <td>0.233374</td>\n",
       "      <td>0.559931</td>\n",
       "      <td>0.25</td>\n",
       "      <td>0.50</td>\n",
       "      <td>GB</td>\n",
       "      <td>NFC</td>\n",
       "      <td>NORTH</td>\n",
       "      <td>NFC_NORTH</td>\n",
       "    </tr>\n",
       "    <tr>\n",
       "      <th>8</th>\n",
       "      <td>12/09/1979</td>\n",
       "      <td>1979</td>\n",
       "      <td>15</td>\n",
       "      <td>Green Bay Packers</td>\n",
       "      <td>Chicago Bears</td>\n",
       "      <td>CHI</td>\n",
       "      <td>-4.0</td>\n",
       "      <td>36.0</td>\n",
       "      <td>NaN</td>\n",
       "      <td>29.0</td>\n",
       "      <td>...</td>\n",
       "      <td>1.429</td>\n",
       "      <td>-6.715</td>\n",
       "      <td>0.168742</td>\n",
       "      <td>0.609073</td>\n",
       "      <td>0.25</td>\n",
       "      <td>0.75</td>\n",
       "      <td>GB</td>\n",
       "      <td>NFC</td>\n",
       "      <td>NORTH</td>\n",
       "      <td>NFC_NORTH</td>\n",
       "    </tr>\n",
       "    <tr>\n",
       "      <th>9</th>\n",
       "      <td>09/07/1980</td>\n",
       "      <td>1980</td>\n",
       "      <td>1</td>\n",
       "      <td>Green Bay Packers</td>\n",
       "      <td>Chicago Bears</td>\n",
       "      <td>CHI</td>\n",
       "      <td>-6.0</td>\n",
       "      <td>35.0</td>\n",
       "      <td>NaN</td>\n",
       "      <td>65.0</td>\n",
       "      <td>...</td>\n",
       "      <td>NaN</td>\n",
       "      <td>NaN</td>\n",
       "      <td>NaN</td>\n",
       "      <td>NaN</td>\n",
       "      <td>0.00</td>\n",
       "      <td>0.00</td>\n",
       "      <td>GB</td>\n",
       "      <td>NFC</td>\n",
       "      <td>NORTH</td>\n",
       "      <td>NFC_NORTH</td>\n",
       "    </tr>\n",
       "  </tbody>\n",
       "</table>\n",
       "<p>10 rows × 53 columns</p>\n",
       "</div>"
      ],
      "text/plain": [
       "  schedule_date  schedule_season  schedule_week        team_home_x  \\\n",
       "0    01/14/1968             1967             22  Green Bay Packers   \n",
       "1    09/09/1979             1979              2  Green Bay Packers   \n",
       "2    09/16/1979             1979              3  Green Bay Packers   \n",
       "3    10/01/1979             1979              5  Green Bay Packers   \n",
       "4    10/14/1979             1979              7  Green Bay Packers   \n",
       "5    11/04/1979             1979             10  Green Bay Packers   \n",
       "6    11/11/1979             1979             11  Green Bay Packers   \n",
       "7    11/25/1979             1979             13  Green Bay Packers   \n",
       "8    12/09/1979             1979             15  Green Bay Packers   \n",
       "9    09/07/1980             1980              1  Green Bay Packers   \n",
       "\n",
       "              team_away team_favorite_id  spread_favorite  over_under_line  \\\n",
       "0       Oakland Raiders               GB            -13.5             43.0   \n",
       "1    New Orleans Saints               GB             -3.0             35.0   \n",
       "2  Tampa Bay Buccaneers               GB             -2.0             36.0   \n",
       "3  New England Patriots               NE             -7.0             39.0   \n",
       "4         Detroit Lions               GB             -4.0             36.0   \n",
       "5         New York Jets              NYJ             -4.0             39.0   \n",
       "6     Minnesota Vikings               GB             -2.0             37.0   \n",
       "7   Philadelphia Eagles              PHI             -4.0             36.0   \n",
       "8         Chicago Bears              CHI             -4.0             36.0   \n",
       "9         Chicago Bears              CHI             -6.0             35.0   \n",
       "\n",
       "                           weather_detail  weather_temperature  \\\n",
       "0  60 degrees-  humidity 74%- wind 12 mph                 60.0   \n",
       "1                                     NaN                 60.0   \n",
       "2                                     NaN                 60.0   \n",
       "3                                     NaN                 52.0   \n",
       "4                                     NaN                 41.0   \n",
       "5                                     NaN                 34.0   \n",
       "6                                     NaN                 26.0   \n",
       "7                                     NaN                 35.0   \n",
       "8                                     NaN                 29.0   \n",
       "9                                     NaN                 65.0   \n",
       "\n",
       "           ...           away_pt_diff_pg  pt_diff_pg  home_exp_win_pct  \\\n",
       "0          ...                       NaN         NaN               NaN   \n",
       "1          ...                    -6.000       3.000          0.092502   \n",
       "2          ...                     9.000      -6.000          0.745553   \n",
       "3          ...                    15.500     -18.250          0.296912   \n",
       "4          ...                    -8.000       5.333          0.305798   \n",
       "5          ...                    -3.667      -1.444          0.167645   \n",
       "6          ...                    -7.100       2.000          0.175218   \n",
       "7          ...                     0.833      -4.666          0.233374   \n",
       "8          ...                     1.429      -6.715          0.168742   \n",
       "9          ...                       NaN         NaN               NaN   \n",
       "\n",
       "   away_exp_win_pct  home_win_pct_last_4 away_win_pct_last_4  team_home_y  \\\n",
       "0               NaN                 0.00                0.00           GB   \n",
       "1          0.259418                 0.00                0.00           GB   \n",
       "2          0.891224                 0.25                0.50           GB   \n",
       "3          0.986614                 0.25                0.75           GB   \n",
       "4          0.101999                 0.25                0.25           GB   \n",
       "5          0.287799                 0.25                0.50           GB   \n",
       "6          0.117972                 0.25                0.25           GB   \n",
       "7          0.559931                 0.25                0.50           GB   \n",
       "8          0.609073                 0.25                0.75           GB   \n",
       "9               NaN                 0.00                0.00           GB   \n",
       "\n",
       "  league_home div_home  combined_lg_div_home  \n",
       "0         NFC    NORTH             NFC_NORTH  \n",
       "1         NFC    NORTH             NFC_NORTH  \n",
       "2         NFC    NORTH             NFC_NORTH  \n",
       "3         NFC    NORTH             NFC_NORTH  \n",
       "4         NFC    NORTH             NFC_NORTH  \n",
       "5         NFC    NORTH             NFC_NORTH  \n",
       "6         NFC    NORTH             NFC_NORTH  \n",
       "7         NFC    NORTH             NFC_NORTH  \n",
       "8         NFC    NORTH             NFC_NORTH  \n",
       "9         NFC    NORTH             NFC_NORTH  \n",
       "\n",
       "[10 rows x 53 columns]"
      ]
     },
     "execution_count": 248,
     "metadata": {},
     "output_type": "execute_result"
    }
   ],
   "source": [
    "df2.head(10)"
   ]
  },
  {
   "cell_type": "code",
   "execution_count": 249,
   "metadata": {},
   "outputs": [],
   "source": [
    "df2.reset_index()\n",
    "g_df = pd.DataFrame(df2.groupby(['league_home','over_under_result'])['over_under_result'].size())"
   ]
  },
  {
   "cell_type": "markdown",
   "metadata": {},
   "source": [
    "#### Notes - Since the 70's both the AFC and NFC have had more under games than over"
   ]
  },
  {
   "cell_type": "code",
   "execution_count": 255,
   "metadata": {},
   "outputs": [
    {
     "data": {
      "text/plain": [
       "<matplotlib.axes._subplots.AxesSubplot at 0x1f5017bdda0>"
      ]
     },
     "execution_count": 255,
     "metadata": {},
     "output_type": "execute_result"
    },
    {
     "data": {
      "image/png": "[encoded data removed]",
      "text/plain": [
       "<matplotlib.figure.Figure at 0x1f5017d65c0>"
      ]
     },
     "metadata": {},
     "output_type": "display_data"
    }
   ],
   "source": [
    "df2 = df[df.schedule_season >= 1960]\n",
    "sns.countplot(x=\"league_home\", hue=\"over_under_result\",  data=df2)"
   ]
  },
  {
   "cell_type": "code",
   "execution_count": 258,
   "metadata": {},
   "outputs": [
    {
     "data": {
      "text/plain": [
       "<matplotlib.axes._subplots.AxesSubplot at 0x1f501800e80>"
      ]
     },
     "execution_count": 258,
     "metadata": {},
     "output_type": "execute_result"
    },
    {
     "data": {
      "image/png": "[encoded data removed]",
      "text/plain": [
       "<matplotlib.figure.Figure at 0x1f5017c1588>"
      ]
     },
     "metadata": {},
     "output_type": "display_data"
    }
   ],
   "source": [
    "sns.countplot(x=\"league_away\", hue=\"over_under_result\",  data=df2)"
   ]
  },
  {
   "cell_type": "markdown",
   "metadata": {},
   "source": [
    "#### Notes - Since the 2014 the NFC has had greater percentage of under than AFC"
   ]
  },
  {
   "cell_type": "code",
   "execution_count": 264,
   "metadata": {},
   "outputs": [
    {
     "data": {
      "text/plain": [
       "<matplotlib.axes._subplots.AxesSubplot at 0x1f5035a0710>"
      ]
     },
     "execution_count": 264,
     "metadata": {},
     "output_type": "execute_result"
    },
    {
     "data": {
      "image/png": "[encoded data removed]",
      "text/plain": [
       "<matplotlib.figure.Figure at 0x1f503479dd8>"
      ]
     },
     "metadata": {},
     "output_type": "display_data"
    }
   ],
   "source": [
    "df2 = df[df.schedule_season >= 2014]\n",
    "sns.countplot(x=\"league_away\", hue=\"over_under_result\", data=df2)"
   ]
  },
  {
   "cell_type": "code",
   "execution_count": 260,
   "metadata": {},
   "outputs": [
    {
     "data": {
      "text/plain": [
       "<matplotlib.axes._subplots.AxesSubplot at 0x1f502bbfa90>"
      ]
     },
     "execution_count": 260,
     "metadata": {},
     "output_type": "execute_result"
    },
    {
     "data": {
      "image/png": "[encoded data removed]",
      "text/plain": [
       "<matplotlib.figure.Figure at 0x1f502c3d320>"
      ]
     },
     "metadata": {},
     "output_type": "display_data"
    }
   ],
   "source": [
    "df2 = df[df.schedule_season >= 2017]\n",
    "sns.countplot(x=\"league_away\", hue=\"over_under_result\", data=df2)"
   ]
  },
  {
   "cell_type": "code",
   "execution_count": 270,
   "metadata": {},
   "outputs": [
    {
     "data": {
      "text/plain": [
       "<matplotlib.axes._subplots.AxesSubplot at 0x1f504217978>"
      ]
     },
     "execution_count": 270,
     "metadata": {},
     "output_type": "execute_result"
    },
    {
     "data": {
      "image/png": "[encoded data removed]",
      "text/plain": [
       "<matplotlib.figure.Figure at 0x1f50362db00>"
      ]
     },
     "metadata": {},
     "output_type": "display_data"
    }
   ],
   "source": [
    "df2 = df[(df.schedule_season >= 2010) & (df.league_away == 'NFC') & (df.league_home == 'AFC')]\n",
    "sns.countplot(x=\"schedule_season\", hue=\"over_under_result\", data=df2)"
   ]
  },
  {
   "cell_type": "code",
   "execution_count": 276,
   "metadata": {},
   "outputs": [
    {
     "ename": "AttributeError",
     "evalue": "'DataFrame' object has no attribute 'unique'",
     "output_type": "error",
     "traceback": [
      "\u001b[1;31m---------------------------------------------------------------------------\u001b[0m",
      "\u001b[1;31mAttributeError\u001b[0m                            Traceback (most recent call last)",
      "\u001b[1;32m<ipython-input-276-db772e394857>\u001b[0m in \u001b[0;36m<module>\u001b[1;34m()\u001b[0m\n\u001b[1;32m----> 1\u001b[1;33m \u001b[0mpd\u001b[0m\u001b[1;33m.\u001b[0m\u001b[0mconcat\u001b[0m\u001b[1;33m(\u001b[0m\u001b[0mdf\u001b[0m\u001b[1;33m[\u001b[0m\u001b[1;33m[\u001b[0m\u001b[1;34m'league_away'\u001b[0m\u001b[1;33m,\u001b[0m \u001b[1;34m'league_home'\u001b[0m\u001b[1;33m]\u001b[0m\u001b[1;33m]\u001b[0m\u001b[1;33m.\u001b[0m\u001b[0munique\u001b[0m\u001b[1;33m(\u001b[0m\u001b[1;33m)\u001b[0m\u001b[1;33m)\u001b[0m\u001b[1;33m\u001b[0m\u001b[0m\n\u001b[0m",
      "\u001b[1;32m~\\Anaconda3\\lib\\site-packages\\pandas\\core\\generic.py\u001b[0m in \u001b[0;36m__getattr__\u001b[1;34m(self, name)\u001b[0m\n\u001b[0;32m   3612\u001b[0m             \u001b[1;32mif\u001b[0m \u001b[0mname\u001b[0m \u001b[1;32min\u001b[0m \u001b[0mself\u001b[0m\u001b[1;33m.\u001b[0m\u001b[0m_info_axis\u001b[0m\u001b[1;33m:\u001b[0m\u001b[1;33m\u001b[0m\u001b[0m\n\u001b[0;32m   3613\u001b[0m                 \u001b[1;32mreturn\u001b[0m \u001b[0mself\u001b[0m\u001b[1;33m[\u001b[0m\u001b[0mname\u001b[0m\u001b[1;33m]\u001b[0m\u001b[1;33m\u001b[0m\u001b[0m\n\u001b[1;32m-> 3614\u001b[1;33m             \u001b[1;32mreturn\u001b[0m \u001b[0mobject\u001b[0m\u001b[1;33m.\u001b[0m\u001b[0m__getattribute__\u001b[0m\u001b[1;33m(\u001b[0m\u001b[0mself\u001b[0m\u001b[1;33m,\u001b[0m \u001b[0mname\u001b[0m\u001b[1;33m)\u001b[0m\u001b[1;33m\u001b[0m\u001b[0m\n\u001b[0m\u001b[0;32m   3615\u001b[0m \u001b[1;33m\u001b[0m\u001b[0m\n\u001b[0;32m   3616\u001b[0m     \u001b[1;32mdef\u001b[0m \u001b[0m__setattr__\u001b[0m\u001b[1;33m(\u001b[0m\u001b[0mself\u001b[0m\u001b[1;33m,\u001b[0m \u001b[0mname\u001b[0m\u001b[1;33m,\u001b[0m \u001b[0mvalue\u001b[0m\u001b[1;33m)\u001b[0m\u001b[1;33m:\u001b[0m\u001b[1;33m\u001b[0m\u001b[0m\n",
      "\u001b[1;31mAttributeError\u001b[0m: 'DataFrame' object has no attribute 'unique'"
     ]
    }
   ],
   "source": [
    "pd.concat(df[['league_away', 'league_home']].unique())"
   ]
  },
  {
   "cell_type": "code",
   "execution_count": null,
   "metadata": {},
   "outputs": [],
   "source": []
  }
 ],
 "metadata": {
  "kernelspec": {
   "display_name": "Python 3",
   "language": "python",
   "name": "python3"
  },
  "language_info": {
   "codemirror_mode": {
    "name": "ipython",
    "version": 3
   },
   "file_extension": ".py",
   "mimetype": "text/x-python",
   "name": "python",
   "nbconvert_exporter": "python",
   "pygments_lexer": "ipython3",
   "version": "3.6.4"
  }
 },
 "nbformat": 4,
 "nbformat_minor": 2
}
